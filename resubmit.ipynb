{
 "cells": [
  {
   "cell_type": "code",
   "execution_count": 16,
   "id": "67c33b59",
   "metadata": {},
   "outputs": [],
   "source": [
    "import pandas as pd\n",
    "import numpy as np\n",
    "import matplotlib.pyplot as plt\n",
    "import seaborn as sns"
   ]
  },
  {
   "cell_type": "code",
   "execution_count": 17,
   "id": "14b60e6a",
   "metadata": {},
   "outputs": [],
   "source": [
    "from sklearn.preprocessing import OneHotEncoder\n",
    "import matplotlib.pyplot as plt\n",
    "from sklearn.decomposition import PCA\n",
    "from sklearn.ensemble import RandomForestRegressor\n",
    "from sklearn.model_selection import train_test_split\n",
    "from sklearn.metrics import mean_absolute_error\n",
    "from sklearn.metrics import confusion_matrix  \n",
    "from sklearn.metrics import accuracy_score \n",
    "import graphviz\n",
    "from sklearn.model_selection import cross_val_score"
   ]
  },
  {
   "cell_type": "code",
   "execution_count": 18,
   "id": "aa0e183e",
   "metadata": {},
   "outputs": [],
   "source": [
    "data1 = pd.read_excel('data.xlsx',sheet_name = 'Categories')"
   ]
  },
  {
   "cell_type": "code",
   "execution_count": 19,
   "id": "df6307e4",
   "metadata": {},
   "outputs": [
    {
     "data": {
      "text/html": [
       "<div>\n",
       "<style scoped>\n",
       "    .dataframe tbody tr th:only-of-type {\n",
       "        vertical-align: middle;\n",
       "    }\n",
       "\n",
       "    .dataframe tbody tr th {\n",
       "        vertical-align: top;\n",
       "    }\n",
       "\n",
       "    .dataframe thead th {\n",
       "        text-align: right;\n",
       "    }\n",
       "</style>\n",
       "<table border=\"1\" class=\"dataframe\">\n",
       "  <thead>\n",
       "    <tr style=\"text-align: right;\">\n",
       "      <th></th>\n",
       "      <th>year</th>\n",
       "      <th>month</th>\n",
       "      <th>LSOA11CD</th>\n",
       "      <th>LSOA11NM</th>\n",
       "      <th>category</th>\n",
       "      <th>total_incidents</th>\n",
       "    </tr>\n",
       "  </thead>\n",
       "  <tbody>\n",
       "    <tr>\n",
       "      <th>0</th>\n",
       "      <td>2019</td>\n",
       "      <td>September-November</td>\n",
       "      <td>E01000001</td>\n",
       "      <td>City of London 001A</td>\n",
       "      <td>C1</td>\n",
       "      <td>8.0</td>\n",
       "    </tr>\n",
       "    <tr>\n",
       "      <th>1</th>\n",
       "      <td>2019</td>\n",
       "      <td>September-November</td>\n",
       "      <td>E01000001</td>\n",
       "      <td>City of London 001A</td>\n",
       "      <td>C2</td>\n",
       "      <td>33.0</td>\n",
       "    </tr>\n",
       "    <tr>\n",
       "      <th>2</th>\n",
       "      <td>2019</td>\n",
       "      <td>September-November</td>\n",
       "      <td>E01000001</td>\n",
       "      <td>City of London 001A</td>\n",
       "      <td>C3</td>\n",
       "      <td>16.0</td>\n",
       "    </tr>\n",
       "    <tr>\n",
       "      <th>3</th>\n",
       "      <td>2019</td>\n",
       "      <td>September-November</td>\n",
       "      <td>E01000001</td>\n",
       "      <td>City of London 001A</td>\n",
       "      <td>C4</td>\n",
       "      <td>2.0</td>\n",
       "    </tr>\n",
       "    <tr>\n",
       "      <th>4</th>\n",
       "      <td>2019</td>\n",
       "      <td>September-November</td>\n",
       "      <td>E01000001</td>\n",
       "      <td>City of London 001A</td>\n",
       "      <td>C5</td>\n",
       "      <td>7.0</td>\n",
       "    </tr>\n",
       "    <tr>\n",
       "      <th>5</th>\n",
       "      <td>2019</td>\n",
       "      <td>September-November</td>\n",
       "      <td>E01000001</td>\n",
       "      <td>City of London 001A</td>\n",
       "      <td>Total</td>\n",
       "      <td>66.0</td>\n",
       "    </tr>\n",
       "    <tr>\n",
       "      <th>6</th>\n",
       "      <td>2019</td>\n",
       "      <td>September-November</td>\n",
       "      <td>E01000002</td>\n",
       "      <td>City of London 001B</td>\n",
       "      <td>C1</td>\n",
       "      <td>12.0</td>\n",
       "    </tr>\n",
       "    <tr>\n",
       "      <th>7</th>\n",
       "      <td>2019</td>\n",
       "      <td>September-November</td>\n",
       "      <td>E01000002</td>\n",
       "      <td>City of London 001B</td>\n",
       "      <td>C2</td>\n",
       "      <td>69.0</td>\n",
       "    </tr>\n",
       "    <tr>\n",
       "      <th>8</th>\n",
       "      <td>2019</td>\n",
       "      <td>September-November</td>\n",
       "      <td>E01000002</td>\n",
       "      <td>City of London 001B</td>\n",
       "      <td>C3</td>\n",
       "      <td>23.0</td>\n",
       "    </tr>\n",
       "    <tr>\n",
       "      <th>9</th>\n",
       "      <td>2019</td>\n",
       "      <td>September-November</td>\n",
       "      <td>E01000002</td>\n",
       "      <td>City of London 001B</td>\n",
       "      <td>C4</td>\n",
       "      <td>3.0</td>\n",
       "    </tr>\n",
       "  </tbody>\n",
       "</table>\n",
       "</div>"
      ],
      "text/plain": [
       "   year               month   LSOA11CD             LSOA11NM category  \\\n",
       "0  2019  September-November  E01000001  City of London 001A      C1    \n",
       "1  2019  September-November  E01000001  City of London 001A      C2    \n",
       "2  2019  September-November  E01000001  City of London 001A      C3    \n",
       "3  2019  September-November  E01000001  City of London 001A      C4    \n",
       "4  2019  September-November  E01000001  City of London 001A      C5    \n",
       "5  2019  September-November  E01000001  City of London 001A    Total   \n",
       "6  2019  September-November  E01000002  City of London 001B      C1    \n",
       "7  2019  September-November  E01000002  City of London 001B      C2    \n",
       "8  2019  September-November  E01000002  City of London 001B      C3    \n",
       "9  2019  September-November  E01000002  City of London 001B      C4    \n",
       "\n",
       "   total_incidents  \n",
       "0              8.0  \n",
       "1             33.0  \n",
       "2             16.0  \n",
       "3              2.0  \n",
       "4              7.0  \n",
       "5             66.0  \n",
       "6             12.0  \n",
       "7             69.0  \n",
       "8             23.0  \n",
       "9              3.0  "
      ]
     },
     "execution_count": 19,
     "metadata": {},
     "output_type": "execute_result"
    }
   ],
   "source": [
    "data1.head(10)"
   ]
  },
  {
   "cell_type": "code",
   "execution_count": 20,
   "id": "5e6612fa",
   "metadata": {},
   "outputs": [],
   "source": [
    "data2 = pd.read_excel('data.xlsx',sheet_name = 'Demographics')"
   ]
  },
  {
   "cell_type": "code",
   "execution_count": 21,
   "id": "d192ed07",
   "metadata": {},
   "outputs": [
    {
     "data": {
      "text/html": [
       "<div>\n",
       "<style scoped>\n",
       "    .dataframe tbody tr th:only-of-type {\n",
       "        vertical-align: middle;\n",
       "    }\n",
       "\n",
       "    .dataframe tbody tr th {\n",
       "        vertical-align: top;\n",
       "    }\n",
       "\n",
       "    .dataframe thead th {\n",
       "        text-align: right;\n",
       "    }\n",
       "</style>\n",
       "<table border=\"1\" class=\"dataframe\">\n",
       "  <thead>\n",
       "    <tr style=\"text-align: right;\">\n",
       "      <th></th>\n",
       "      <th>year</th>\n",
       "      <th>month</th>\n",
       "      <th>LSOA11CD</th>\n",
       "      <th>LSOA11NM</th>\n",
       "      <th>age</th>\n",
       "      <th>sex</th>\n",
       "      <th>category</th>\n",
       "      <th>total_incidents</th>\n",
       "    </tr>\n",
       "  </thead>\n",
       "  <tbody>\n",
       "    <tr>\n",
       "      <th>0</th>\n",
       "      <td>2019</td>\n",
       "      <td>September-November</td>\n",
       "      <td>E01000001</td>\n",
       "      <td>City of London 001A</td>\n",
       "      <td>NaN</td>\n",
       "      <td>U</td>\n",
       "      <td>Total</td>\n",
       "      <td>NaN</td>\n",
       "    </tr>\n",
       "    <tr>\n",
       "      <th>1</th>\n",
       "      <td>2019</td>\n",
       "      <td>September-November</td>\n",
       "      <td>E01000001</td>\n",
       "      <td>City of London 001A</td>\n",
       "      <td>NaN</td>\n",
       "      <td>M</td>\n",
       "      <td>Total</td>\n",
       "      <td>2.0</td>\n",
       "    </tr>\n",
       "    <tr>\n",
       "      <th>2</th>\n",
       "      <td>2019</td>\n",
       "      <td>September-November</td>\n",
       "      <td>E01000001</td>\n",
       "      <td>City of London 001A</td>\n",
       "      <td>10.0</td>\n",
       "      <td>F</td>\n",
       "      <td>Total</td>\n",
       "      <td>1.0</td>\n",
       "    </tr>\n",
       "    <tr>\n",
       "      <th>3</th>\n",
       "      <td>2019</td>\n",
       "      <td>September-November</td>\n",
       "      <td>E01000001</td>\n",
       "      <td>City of London 001A</td>\n",
       "      <td>20.0</td>\n",
       "      <td>F</td>\n",
       "      <td>Total</td>\n",
       "      <td>2.0</td>\n",
       "    </tr>\n",
       "    <tr>\n",
       "      <th>4</th>\n",
       "      <td>2019</td>\n",
       "      <td>September-November</td>\n",
       "      <td>E01000001</td>\n",
       "      <td>City of London 001A</td>\n",
       "      <td>20.0</td>\n",
       "      <td>M</td>\n",
       "      <td>Total</td>\n",
       "      <td>1.0</td>\n",
       "    </tr>\n",
       "  </tbody>\n",
       "</table>\n",
       "</div>"
      ],
      "text/plain": [
       "   year               month   LSOA11CD             LSOA11NM   age sex  \\\n",
       "0  2019  September-November  E01000001  City of London 001A   NaN   U   \n",
       "1  2019  September-November  E01000001  City of London 001A   NaN   M   \n",
       "2  2019  September-November  E01000001  City of London 001A  10.0   F   \n",
       "3  2019  September-November  E01000001  City of London 001A  20.0   F   \n",
       "4  2019  September-November  E01000001  City of London 001A  20.0   M   \n",
       "\n",
       "  category  total_incidents  \n",
       "0    Total              NaN  \n",
       "1    Total              2.0  \n",
       "2    Total              1.0  \n",
       "3    Total              2.0  \n",
       "4    Total              1.0  "
      ]
     },
     "execution_count": 21,
     "metadata": {},
     "output_type": "execute_result"
    }
   ],
   "source": [
    "data2.head()"
   ]
  },
  {
   "cell_type": "markdown",
   "id": "b23bed4b",
   "metadata": {},
   "source": [
    "## EDA for data1"
   ]
  },
  {
   "cell_type": "code",
   "execution_count": 22,
   "id": "2a8e3397",
   "metadata": {},
   "outputs": [
    {
     "data": {
      "text/plain": [
       "5419"
      ]
     },
     "execution_count": 22,
     "metadata": {},
     "output_type": "execute_result"
    }
   ],
   "source": [
    "len(data1['LSOA11NM'].unique())"
   ]
  },
  {
   "cell_type": "code",
   "execution_count": 23,
   "id": "10a78baf",
   "metadata": {},
   "outputs": [],
   "source": [
    "data1['District'] = data1['LSOA11NM'].apply(lambda x: x[:-5])"
   ]
  },
  {
   "cell_type": "code",
   "execution_count": 24,
   "id": "189d2e2e",
   "metadata": {},
   "outputs": [
    {
     "data": {
      "text/plain": [
       "58"
      ]
     },
     "execution_count": 24,
     "metadata": {},
     "output_type": "execute_result"
    }
   ],
   "source": [
    "len(data1['District'].unique())"
   ]
  },
  {
   "cell_type": "code",
   "execution_count": 25,
   "id": "423feb16",
   "metadata": {},
   "outputs": [
    {
     "data": {
      "text/plain": [
       "array(['City of London', 'Barking and Dagenham', 'Barnet', 'Bexley',\n",
       "       'Brent', 'Bromley', 'Camden', 'Croydon', 'Ealing', 'Enfield',\n",
       "       'Greenwich', 'Hackney', 'Hammersmith and Fulham', 'Haringey',\n",
       "       'Harrow', 'Havering', 'Hillingdon', 'Hounslow', 'Islington',\n",
       "       'Kensington and Chelsea', 'Kingston upon Thames', 'Lambeth',\n",
       "       'Lewisham', 'Merton', 'Newham', 'Redbridge',\n",
       "       'Richmond upon Thames', 'Southwark', 'Sutton', 'Tower Hamlets',\n",
       "       'Waltham Forest', 'Wandsworth', 'Westminster', 'Thurrock',\n",
       "       'Slough', 'Windsor and Maidenhead', 'Chiltern', 'South Bucks',\n",
       "       'Brentwood', 'Epping Forest', 'Broxbourne', 'Hertsmere',\n",
       "       'St Albans', 'Three Rivers', 'Watford', 'Dartford', 'Gravesham',\n",
       "       'Sevenoaks', 'Elmbridge', 'Epsom and Ewell', 'Guildford',\n",
       "       'Mole Valley', 'Reigate and Banstead', 'Runnymede', 'Spelthorne',\n",
       "       'Tandridge', 'Welwyn Hatfield', 'Woking'], dtype=object)"
      ]
     },
     "execution_count": 25,
     "metadata": {},
     "output_type": "execute_result"
    }
   ],
   "source": [
    "data1['District'].unique()"
   ]
  },
  {
   "cell_type": "code",
   "execution_count": 26,
   "id": "a6527f9b",
   "metadata": {},
   "outputs": [
    {
     "data": {
      "text/html": [
       "<div>\n",
       "<style scoped>\n",
       "    .dataframe tbody tr th:only-of-type {\n",
       "        vertical-align: middle;\n",
       "    }\n",
       "\n",
       "    .dataframe tbody tr th {\n",
       "        vertical-align: top;\n",
       "    }\n",
       "\n",
       "    .dataframe thead th {\n",
       "        text-align: right;\n",
       "    }\n",
       "</style>\n",
       "<table border=\"1\" class=\"dataframe\">\n",
       "  <thead>\n",
       "    <tr style=\"text-align: right;\">\n",
       "      <th></th>\n",
       "      <th>total_incidents</th>\n",
       "    </tr>\n",
       "    <tr>\n",
       "      <th>District</th>\n",
       "      <th></th>\n",
       "    </tr>\n",
       "  </thead>\n",
       "  <tbody>\n",
       "    <tr>\n",
       "      <th>Barking and Dagenham</th>\n",
       "      <td>31841.0</td>\n",
       "    </tr>\n",
       "    <tr>\n",
       "      <th>Barnet</th>\n",
       "      <td>50518.0</td>\n",
       "    </tr>\n",
       "    <tr>\n",
       "      <th>Bexley</th>\n",
       "      <td>33876.0</td>\n",
       "    </tr>\n",
       "    <tr>\n",
       "      <th>Brent</th>\n",
       "      <td>48748.0</td>\n",
       "    </tr>\n",
       "    <tr>\n",
       "      <th>Brentwood</th>\n",
       "      <td>0.0</td>\n",
       "    </tr>\n",
       "    <tr>\n",
       "      <th>Bromley</th>\n",
       "      <td>42935.0</td>\n",
       "    </tr>\n",
       "    <tr>\n",
       "      <th>Broxbourne</th>\n",
       "      <td>0.0</td>\n",
       "    </tr>\n",
       "    <tr>\n",
       "      <th>Camden</th>\n",
       "      <td>36837.0</td>\n",
       "    </tr>\n",
       "    <tr>\n",
       "      <th>Chiltern</th>\n",
       "      <td>0.0</td>\n",
       "    </tr>\n",
       "    <tr>\n",
       "      <th>City of London</th>\n",
       "      <td>5384.0</td>\n",
       "    </tr>\n",
       "    <tr>\n",
       "      <th>Croydon</th>\n",
       "      <td>56473.0</td>\n",
       "    </tr>\n",
       "    <tr>\n",
       "      <th>Dartford</th>\n",
       "      <td>0.0</td>\n",
       "    </tr>\n",
       "    <tr>\n",
       "      <th>Ealing</th>\n",
       "      <td>50009.0</td>\n",
       "    </tr>\n",
       "    <tr>\n",
       "      <th>Elmbridge</th>\n",
       "      <td>0.0</td>\n",
       "    </tr>\n",
       "    <tr>\n",
       "      <th>Enfield</th>\n",
       "      <td>47770.0</td>\n",
       "    </tr>\n",
       "    <tr>\n",
       "      <th>Epping Forest</th>\n",
       "      <td>0.0</td>\n",
       "    </tr>\n",
       "    <tr>\n",
       "      <th>Epsom and Ewell</th>\n",
       "      <td>0.0</td>\n",
       "    </tr>\n",
       "    <tr>\n",
       "      <th>Gravesham</th>\n",
       "      <td>0.0</td>\n",
       "    </tr>\n",
       "    <tr>\n",
       "      <th>Greenwich</th>\n",
       "      <td>38058.0</td>\n",
       "    </tr>\n",
       "    <tr>\n",
       "      <th>Guildford</th>\n",
       "      <td>0.0</td>\n",
       "    </tr>\n",
       "    <tr>\n",
       "      <th>Hackney</th>\n",
       "      <td>35482.0</td>\n",
       "    </tr>\n",
       "    <tr>\n",
       "      <th>Hammersmith and Fulham</th>\n",
       "      <td>27303.0</td>\n",
       "    </tr>\n",
       "    <tr>\n",
       "      <th>Haringey</th>\n",
       "      <td>37688.0</td>\n",
       "    </tr>\n",
       "    <tr>\n",
       "      <th>Harrow</th>\n",
       "      <td>32093.0</td>\n",
       "    </tr>\n",
       "    <tr>\n",
       "      <th>Havering</th>\n",
       "      <td>39562.0</td>\n",
       "    </tr>\n",
       "    <tr>\n",
       "      <th>Hertsmere</th>\n",
       "      <td>0.0</td>\n",
       "    </tr>\n",
       "    <tr>\n",
       "      <th>Hillingdon</th>\n",
       "      <td>49413.0</td>\n",
       "    </tr>\n",
       "    <tr>\n",
       "      <th>Hounslow</th>\n",
       "      <td>38594.0</td>\n",
       "    </tr>\n",
       "    <tr>\n",
       "      <th>Islington</th>\n",
       "      <td>33076.0</td>\n",
       "    </tr>\n",
       "    <tr>\n",
       "      <th>Kensington and Chelsea</th>\n",
       "      <td>23464.0</td>\n",
       "    </tr>\n",
       "    <tr>\n",
       "      <th>Kingston upon Thames</th>\n",
       "      <td>21386.0</td>\n",
       "    </tr>\n",
       "    <tr>\n",
       "      <th>Lambeth</th>\n",
       "      <td>46827.0</td>\n",
       "    </tr>\n",
       "    <tr>\n",
       "      <th>Lewisham</th>\n",
       "      <td>39579.0</td>\n",
       "    </tr>\n",
       "    <tr>\n",
       "      <th>Merton</th>\n",
       "      <td>25952.0</td>\n",
       "    </tr>\n",
       "    <tr>\n",
       "      <th>Mole Valley</th>\n",
       "      <td>0.0</td>\n",
       "    </tr>\n",
       "    <tr>\n",
       "      <th>Newham</th>\n",
       "      <td>46357.0</td>\n",
       "    </tr>\n",
       "    <tr>\n",
       "      <th>Redbridge</th>\n",
       "      <td>40082.0</td>\n",
       "    </tr>\n",
       "    <tr>\n",
       "      <th>Reigate and Banstead</th>\n",
       "      <td>0.0</td>\n",
       "    </tr>\n",
       "    <tr>\n",
       "      <th>Richmond upon Thames</th>\n",
       "      <td>21564.0</td>\n",
       "    </tr>\n",
       "    <tr>\n",
       "      <th>Runnymede</th>\n",
       "      <td>0.0</td>\n",
       "    </tr>\n",
       "    <tr>\n",
       "      <th>Sevenoaks</th>\n",
       "      <td>0.0</td>\n",
       "    </tr>\n",
       "    <tr>\n",
       "      <th>Slough</th>\n",
       "      <td>0.0</td>\n",
       "    </tr>\n",
       "    <tr>\n",
       "      <th>South Bucks</th>\n",
       "      <td>0.0</td>\n",
       "    </tr>\n",
       "    <tr>\n",
       "      <th>Southwark</th>\n",
       "      <td>46869.0</td>\n",
       "    </tr>\n",
       "    <tr>\n",
       "      <th>Spelthorne</th>\n",
       "      <td>0.0</td>\n",
       "    </tr>\n",
       "    <tr>\n",
       "      <th>St Albans</th>\n",
       "      <td>0.0</td>\n",
       "    </tr>\n",
       "    <tr>\n",
       "      <th>Sutton</th>\n",
       "      <td>26753.0</td>\n",
       "    </tr>\n",
       "    <tr>\n",
       "      <th>Tandridge</th>\n",
       "      <td>0.0</td>\n",
       "    </tr>\n",
       "    <tr>\n",
       "      <th>Three Rivers</th>\n",
       "      <td>0.0</td>\n",
       "    </tr>\n",
       "    <tr>\n",
       "      <th>Thurrock</th>\n",
       "      <td>0.0</td>\n",
       "    </tr>\n",
       "    <tr>\n",
       "      <th>Tower Hamlets</th>\n",
       "      <td>40078.0</td>\n",
       "    </tr>\n",
       "    <tr>\n",
       "      <th>Waltham Forest</th>\n",
       "      <td>35144.0</td>\n",
       "    </tr>\n",
       "    <tr>\n",
       "      <th>Wandsworth</th>\n",
       "      <td>36807.0</td>\n",
       "    </tr>\n",
       "    <tr>\n",
       "      <th>Watford</th>\n",
       "      <td>0.0</td>\n",
       "    </tr>\n",
       "    <tr>\n",
       "      <th>Welwyn Hatfield</th>\n",
       "      <td>0.0</td>\n",
       "    </tr>\n",
       "    <tr>\n",
       "      <th>Westminster</th>\n",
       "      <td>47763.0</td>\n",
       "    </tr>\n",
       "    <tr>\n",
       "      <th>Windsor and Maidenhead</th>\n",
       "      <td>0.0</td>\n",
       "    </tr>\n",
       "    <tr>\n",
       "      <th>Woking</th>\n",
       "      <td>0.0</td>\n",
       "    </tr>\n",
       "  </tbody>\n",
       "</table>\n",
       "</div>"
      ],
      "text/plain": [
       "                        total_incidents\n",
       "District                               \n",
       "Barking and Dagenham            31841.0\n",
       "Barnet                          50518.0\n",
       "Bexley                          33876.0\n",
       "Brent                           48748.0\n",
       "Brentwood                           0.0\n",
       "Bromley                         42935.0\n",
       "Broxbourne                          0.0\n",
       "Camden                          36837.0\n",
       "Chiltern                            0.0\n",
       "City of London                   5384.0\n",
       "Croydon                         56473.0\n",
       "Dartford                            0.0\n",
       "Ealing                          50009.0\n",
       "Elmbridge                           0.0\n",
       "Enfield                         47770.0\n",
       "Epping Forest                       0.0\n",
       "Epsom and Ewell                     0.0\n",
       "Gravesham                           0.0\n",
       "Greenwich                       38058.0\n",
       "Guildford                           0.0\n",
       "Hackney                         35482.0\n",
       "Hammersmith and Fulham          27303.0\n",
       "Haringey                        37688.0\n",
       "Harrow                          32093.0\n",
       "Havering                        39562.0\n",
       "Hertsmere                           0.0\n",
       "Hillingdon                      49413.0\n",
       "Hounslow                        38594.0\n",
       "Islington                       33076.0\n",
       "Kensington and Chelsea          23464.0\n",
       "Kingston upon Thames            21386.0\n",
       "Lambeth                         46827.0\n",
       "Lewisham                        39579.0\n",
       "Merton                          25952.0\n",
       "Mole Valley                         0.0\n",
       "Newham                          46357.0\n",
       "Redbridge                       40082.0\n",
       "Reigate and Banstead                0.0\n",
       "Richmond upon Thames            21564.0\n",
       "Runnymede                           0.0\n",
       "Sevenoaks                           0.0\n",
       "Slough                              0.0\n",
       "South Bucks                         0.0\n",
       "Southwark                       46869.0\n",
       "Spelthorne                          0.0\n",
       "St Albans                           0.0\n",
       "Sutton                          26753.0\n",
       "Tandridge                           0.0\n",
       "Three Rivers                        0.0\n",
       "Thurrock                            0.0\n",
       "Tower Hamlets                   40078.0\n",
       "Waltham Forest                  35144.0\n",
       "Wandsworth                      36807.0\n",
       "Watford                             0.0\n",
       "Welwyn Hatfield                     0.0\n",
       "Westminster                     47763.0\n",
       "Windsor and Maidenhead              0.0\n",
       "Woking                              0.0"
      ]
     },
     "execution_count": 26,
     "metadata": {},
     "output_type": "execute_result"
    }
   ],
   "source": [
    "df_district = data1.groupby('District').sum(numeric_only = True)\n",
    "cols = ['total_incidents']\n",
    "df_new1 = df_district[cols]\n",
    "df_new1"
   ]
  },
  {
   "cell_type": "markdown",
   "id": "4767fe9f",
   "metadata": {},
   "source": [
    "### Fill Missing value"
   ]
  },
  {
   "cell_type": "markdown",
   "id": "50e198c3",
   "metadata": {},
   "source": [
    "I find that there are some missing values in 'age' and 'total incidents'.\n",
    "\n",
    "I fill the missing values in  'age' column with average age.\n",
    "\n",
    "I fill the  missing values in 'total incidents' column with zero."
   ]
  },
  {
   "cell_type": "code",
   "execution_count": 27,
   "id": "454a1e31",
   "metadata": {},
   "outputs": [
    {
     "data": {
      "text/plain": [
       "year                   0\n",
       "month                  0\n",
       "LSOA11CD               0\n",
       "LSOA11NM               0\n",
       "age                19026\n",
       "sex                    0\n",
       "category               0\n",
       "total_incidents    22756\n",
       "dtype: int64"
      ]
     },
     "execution_count": 27,
     "metadata": {},
     "output_type": "execute_result"
    }
   ],
   "source": [
    "data2.isnull().sum()"
   ]
  },
  {
   "cell_type": "code",
   "execution_count": 28,
   "id": "164e6d91",
   "metadata": {},
   "outputs": [
    {
     "name": "stdout",
     "output_type": "stream",
     "text": [
      "<class 'pandas.core.frame.DataFrame'>\n",
      "RangeIndex: 193582 entries, 0 to 193581\n",
      "Data columns (total 8 columns):\n",
      " #   Column           Non-Null Count   Dtype  \n",
      "---  ------           --------------   -----  \n",
      " 0   year             193582 non-null  int64  \n",
      " 1   month            193582 non-null  object \n",
      " 2   LSOA11CD         193582 non-null  object \n",
      " 3   LSOA11NM         193582 non-null  object \n",
      " 4   age              174556 non-null  float64\n",
      " 5   sex              193582 non-null  object \n",
      " 6   category         193582 non-null  object \n",
      " 7   total_incidents  170826 non-null  float64\n",
      "dtypes: float64(2), int64(1), object(5)\n",
      "memory usage: 11.8+ MB\n"
     ]
    }
   ],
   "source": [
    "data2.info()"
   ]
  },
  {
   "cell_type": "code",
   "execution_count": 29,
   "id": "b83c4845",
   "metadata": {},
   "outputs": [],
   "source": [
    "data2['total_incidents'] = data2['total_incidents'].fillna(0)\n",
    "data2['age'] = data2['age'].fillna(data2['age'].mean())"
   ]
  },
  {
   "cell_type": "code",
   "execution_count": 30,
   "id": "a0bda45d",
   "metadata": {},
   "outputs": [
    {
     "data": {
      "text/plain": [
       "193582"
      ]
     },
     "execution_count": 30,
     "metadata": {},
     "output_type": "execute_result"
    }
   ],
   "source": [
    "len(data2)"
   ]
  },
  {
   "cell_type": "code",
   "execution_count": 31,
   "id": "99f5bf6c",
   "metadata": {},
   "outputs": [
    {
     "data": {
      "text/plain": [
       "5419"
      ]
     },
     "execution_count": 31,
     "metadata": {},
     "output_type": "execute_result"
    }
   ],
   "source": [
    "len(data2.LSOA11NM.unique())"
   ]
  },
  {
   "cell_type": "code",
   "execution_count": 32,
   "id": "9b8775c0",
   "metadata": {},
   "outputs": [
    {
     "data": {
      "text/plain": [
       "array(['City of London', 'Barking and Dagenham', 'Barnet', 'Bexley',\n",
       "       'Brent', 'Bromley', 'Camden', 'Croydon', 'Ealing', 'Enfield',\n",
       "       'Greenwich', 'Hackney', 'Hammersmith and Fulham', 'Haringey',\n",
       "       'Harrow', 'Havering', 'Hillingdon', 'Hounslow', 'Islington',\n",
       "       'Kensington and Chelsea', 'Kingston upon Thames', 'Lambeth',\n",
       "       'Lewisham', 'Merton', 'Newham', 'Redbridge',\n",
       "       'Richmond upon Thames', 'Southwark', 'Sutton', 'Tower Hamlets',\n",
       "       'Waltham Forest', 'Wandsworth', 'Westminster', 'Thurrock',\n",
       "       'Slough', 'Windsor and Maidenhead', 'Chiltern', 'South Bucks',\n",
       "       'Brentwood', 'Epping Forest', 'Broxbourne', 'Hertsmere',\n",
       "       'St Albans', 'Three Rivers', 'Watford', 'Dartford', 'Gravesham',\n",
       "       'Sevenoaks', 'Elmbridge', 'Epsom and Ewell', 'Guildford',\n",
       "       'Mole Valley', 'Reigate and Banstead', 'Runnymede', 'Spelthorne',\n",
       "       'Tandridge', 'Welwyn Hatfield', 'Woking'], dtype=object)"
      ]
     },
     "execution_count": 32,
     "metadata": {},
     "output_type": "execute_result"
    }
   ],
   "source": [
    "# get the number of cities\n",
    "data2['District'] = data2['LSOA11NM'].apply(lambda x: x[:-5])\n",
    "data2['District'].unique()"
   ]
  },
  {
   "cell_type": "code",
   "execution_count": 33,
   "id": "2ebfcf0c",
   "metadata": {},
   "outputs": [
    {
     "name": "stderr",
     "output_type": "stream",
     "text": [
      "<ipython-input-33-b64e38aadbeb>:2: FutureWarning: The default value of numeric_only in DataFrameGroupBy.sum is deprecated. In a future version, numeric_only will default to False. Either specify numeric_only or select only columns which should be valid for the function.\n",
      "  data2.groupby('LSOA11NM').sum()['total_incidents']\n"
     ]
    },
    {
     "data": {
      "text/plain": [
       "LSOA11NM\n",
       "Barking and Dagenham 001A      178.0\n",
       "Barking and Dagenham 001B      241.0\n",
       "Barking and Dagenham 001C      135.0\n",
       "Barking and Dagenham 001D      210.0\n",
       "Barking and Dagenham 002A      135.0\n",
       "                               ...  \n",
       "Windsor and Maidenhead 011C      0.0\n",
       "Windsor and Maidenhead 011D      0.0\n",
       "Windsor and Maidenhead 016B      0.0\n",
       "Woking 001A                      0.0\n",
       "Woking 001E                      0.0\n",
       "Name: total_incidents, Length: 5419, dtype: float64"
      ]
     },
     "execution_count": 33,
     "metadata": {},
     "output_type": "execute_result"
    }
   ],
   "source": [
    "# Calculate number of properties  for each LSOA:\n",
    "data2.groupby('LSOA11NM').sum()['total_incidents']"
   ]
  },
  {
   "cell_type": "code",
   "execution_count": null,
   "id": "eca4ed1d",
   "metadata": {},
   "outputs": [],
   "source": []
  },
  {
   "cell_type": "markdown",
   "id": "ca41eb7c",
   "metadata": {},
   "source": [
    "# EDA for Categories"
   ]
  },
  {
   "cell_type": "code",
   "execution_count": 34,
   "id": "af9bf76b",
   "metadata": {},
   "outputs": [],
   "source": [
    "data_total = data1[data1['category']=='Total']\n",
    "data_c1 = data1[data1['category']=='C1 ']\n",
    "data_c2 = data1[data1['category']=='C2 ']\n",
    "data_c3 = data1[data1['category']=='C3 ']\n",
    "data_c4 = data1[data1['category']=='C4 ']\n",
    "data_c5 = data1[data1['category']=='C5 ']"
   ]
  },
  {
   "cell_type": "code",
   "execution_count": 35,
   "id": "e2d0adc1",
   "metadata": {},
   "outputs": [
    {
     "data": {
      "text/html": [
       "<div>\n",
       "<style scoped>\n",
       "    .dataframe tbody tr th:only-of-type {\n",
       "        vertical-align: middle;\n",
       "    }\n",
       "\n",
       "    .dataframe tbody tr th {\n",
       "        vertical-align: top;\n",
       "    }\n",
       "\n",
       "    .dataframe thead th {\n",
       "        text-align: right;\n",
       "    }\n",
       "</style>\n",
       "<table border=\"1\" class=\"dataframe\">\n",
       "  <thead>\n",
       "    <tr style=\"text-align: right;\">\n",
       "      <th></th>\n",
       "      <th>year</th>\n",
       "      <th>month</th>\n",
       "      <th>LSOA11CD</th>\n",
       "      <th>LSOA11NM</th>\n",
       "      <th>category</th>\n",
       "      <th>total_incidents</th>\n",
       "      <th>District</th>\n",
       "    </tr>\n",
       "  </thead>\n",
       "  <tbody>\n",
       "    <tr>\n",
       "      <th>5</th>\n",
       "      <td>2019</td>\n",
       "      <td>September-November</td>\n",
       "      <td>E01000001</td>\n",
       "      <td>City of London 001A</td>\n",
       "      <td>Total</td>\n",
       "      <td>66.0</td>\n",
       "      <td>City of London</td>\n",
       "    </tr>\n",
       "    <tr>\n",
       "      <th>12</th>\n",
       "      <td>2019</td>\n",
       "      <td>September-November</td>\n",
       "      <td>E01000002</td>\n",
       "      <td>City of London 001B</td>\n",
       "      <td>Total</td>\n",
       "      <td>122.0</td>\n",
       "      <td>City of London</td>\n",
       "    </tr>\n",
       "    <tr>\n",
       "      <th>19</th>\n",
       "      <td>2019</td>\n",
       "      <td>September-November</td>\n",
       "      <td>E01000003</td>\n",
       "      <td>City of London 001C</td>\n",
       "      <td>Total</td>\n",
       "      <td>57.0</td>\n",
       "      <td>City of London</td>\n",
       "    </tr>\n",
       "    <tr>\n",
       "      <th>25</th>\n",
       "      <td>2019</td>\n",
       "      <td>September-November</td>\n",
       "      <td>E01000005</td>\n",
       "      <td>City of London 001E</td>\n",
       "      <td>Total</td>\n",
       "      <td>140.0</td>\n",
       "      <td>City of London</td>\n",
       "    </tr>\n",
       "    <tr>\n",
       "      <th>31</th>\n",
       "      <td>2019</td>\n",
       "      <td>September-November</td>\n",
       "      <td>E01000006</td>\n",
       "      <td>Barking and Dagenham 016A</td>\n",
       "      <td>Total</td>\n",
       "      <td>48.0</td>\n",
       "      <td>Barking and Dagenham</td>\n",
       "    </tr>\n",
       "    <tr>\n",
       "      <th>...</th>\n",
       "      <td>...</td>\n",
       "      <td>...</td>\n",
       "      <td>...</td>\n",
       "      <td>...</td>\n",
       "      <td>...</td>\n",
       "      <td>...</td>\n",
       "      <td>...</td>\n",
       "    </tr>\n",
       "    <tr>\n",
       "      <th>64474</th>\n",
       "      <td>2020</td>\n",
       "      <td>September-November</td>\n",
       "      <td>E01033742</td>\n",
       "      <td>Greenwich 007F</td>\n",
       "      <td>Total</td>\n",
       "      <td>62.0</td>\n",
       "      <td>Greenwich</td>\n",
       "    </tr>\n",
       "    <tr>\n",
       "      <th>64481</th>\n",
       "      <td>2020</td>\n",
       "      <td>September-November</td>\n",
       "      <td>E01033743</td>\n",
       "      <td>Greenwich 002H</td>\n",
       "      <td>Total</td>\n",
       "      <td>106.0</td>\n",
       "      <td>Greenwich</td>\n",
       "    </tr>\n",
       "    <tr>\n",
       "      <th>64486</th>\n",
       "      <td>2020</td>\n",
       "      <td>September-November</td>\n",
       "      <td>E01033744</td>\n",
       "      <td>Greenwich 007G</td>\n",
       "      <td>Total</td>\n",
       "      <td>20.0</td>\n",
       "      <td>Greenwich</td>\n",
       "    </tr>\n",
       "    <tr>\n",
       "      <th>64491</th>\n",
       "      <td>2020</td>\n",
       "      <td>September-November</td>\n",
       "      <td>E01033745</td>\n",
       "      <td>Greenwich 002I</td>\n",
       "      <td>Total</td>\n",
       "      <td>32.0</td>\n",
       "      <td>Greenwich</td>\n",
       "    </tr>\n",
       "    <tr>\n",
       "      <th>64498</th>\n",
       "      <td>2020</td>\n",
       "      <td>September-November</td>\n",
       "      <td>E01033746</td>\n",
       "      <td>Greenwich 038E</td>\n",
       "      <td>Total</td>\n",
       "      <td>58.0</td>\n",
       "      <td>Greenwich</td>\n",
       "    </tr>\n",
       "  </tbody>\n",
       "</table>\n",
       "<p>10591 rows × 7 columns</p>\n",
       "</div>"
      ],
      "text/plain": [
       "       year               month   LSOA11CD                   LSOA11NM  \\\n",
       "5      2019  September-November  E01000001        City of London 001A   \n",
       "12     2019  September-November  E01000002        City of London 001B   \n",
       "19     2019  September-November  E01000003        City of London 001C   \n",
       "25     2019  September-November  E01000005        City of London 001E   \n",
       "31     2019  September-November  E01000006  Barking and Dagenham 016A   \n",
       "...     ...                 ...        ...                        ...   \n",
       "64474  2020  September-November  E01033742             Greenwich 007F   \n",
       "64481  2020  September-November  E01033743             Greenwich 002H   \n",
       "64486  2020  September-November  E01033744             Greenwich 007G   \n",
       "64491  2020  September-November  E01033745             Greenwich 002I   \n",
       "64498  2020  September-November  E01033746             Greenwich 038E   \n",
       "\n",
       "      category  total_incidents              District  \n",
       "5        Total             66.0        City of London  \n",
       "12       Total            122.0        City of London  \n",
       "19       Total             57.0        City of London  \n",
       "25       Total            140.0        City of London  \n",
       "31       Total             48.0  Barking and Dagenham  \n",
       "...        ...              ...                   ...  \n",
       "64474    Total             62.0             Greenwich  \n",
       "64481    Total            106.0             Greenwich  \n",
       "64486    Total             20.0             Greenwich  \n",
       "64491    Total             32.0             Greenwich  \n",
       "64498    Total             58.0             Greenwich  \n",
       "\n",
       "[10591 rows x 7 columns]"
      ]
     },
     "execution_count": 35,
     "metadata": {},
     "output_type": "execute_result"
    }
   ],
   "source": [
    "data_total"
   ]
  },
  {
   "cell_type": "code",
   "execution_count": 36,
   "id": "6b49bff9",
   "metadata": {},
   "outputs": [
    {
     "data": {
      "image/png": "[encoded data removed]",
      "text/plain": [
       "<Figure size 432x288 with 1 Axes>"
      ]
     },
     "metadata": {
      "needs_background": "light"
     },
     "output_type": "display_data"
    }
   ],
   "source": [
    "data_total['total_incidents'].plot()\n",
    "plt.show()"
   ]
  },
  {
   "cell_type": "code",
   "execution_count": 37,
   "id": "a42cd0b9",
   "metadata": {},
   "outputs": [
    {
     "data": {
      "image/png": "[encoded data removed]",
      "text/plain": [
       "<Figure size 432x288 with 1 Axes>"
      ]
     },
     "metadata": {
      "needs_background": "light"
     },
     "output_type": "display_data"
    }
   ],
   "source": [
    "data_c1['total_incidents'].plot()\n",
    "plt.show()"
   ]
  },
  {
   "cell_type": "code",
   "execution_count": 38,
   "id": "46a73ebf",
   "metadata": {},
   "outputs": [
    {
     "data": {
      "image/png": "[encoded data removed]",
      "text/plain": [
       "<Figure size 432x288 with 1 Axes>"
      ]
     },
     "metadata": {
      "needs_background": "light"
     },
     "output_type": "display_data"
    }
   ],
   "source": [
    "data_c2['total_incidents'].plot()\n",
    "plt.show()"
   ]
  },
  {
   "cell_type": "code",
   "execution_count": 39,
   "id": "1c7c787d",
   "metadata": {},
   "outputs": [
    {
     "data": {
      "image/png": "[encoded data removed]",
      "text/plain": [
       "<Figure size 432x288 with 1 Axes>"
      ]
     },
     "metadata": {
      "needs_background": "light"
     },
     "output_type": "display_data"
    }
   ],
   "source": [
    "data_c3['total_incidents'].plot()\n",
    "plt.show()"
   ]
  },
  {
   "cell_type": "code",
   "execution_count": 40,
   "id": "4a10a5c5",
   "metadata": {},
   "outputs": [
    {
     "data": {
      "image/png": "[encoded data removed]",
      "text/plain": [
       "<Figure size 432x288 with 1 Axes>"
      ]
     },
     "metadata": {
      "needs_background": "light"
     },
     "output_type": "display_data"
    }
   ],
   "source": [
    "data_c4['total_incidents'].plot()\n",
    "plt.show()"
   ]
  },
  {
   "cell_type": "code",
   "execution_count": 41,
   "id": "73f3da48",
   "metadata": {},
   "outputs": [
    {
     "data": {
      "image/png": "[encoded data removed]",
      "text/plain": [
       "<Figure size 432x288 with 1 Axes>"
      ]
     },
     "metadata": {
      "needs_background": "light"
     },
     "output_type": "display_data"
    }
   ],
   "source": [
    "data_c5['total_incidents'].plot()\n",
    "plt.show()"
   ]
  },
  {
   "cell_type": "markdown",
   "id": "e45e4932",
   "metadata": {},
   "source": [
    "# EDA for Demographics"
   ]
  },
  {
   "cell_type": "code",
   "execution_count": 42,
   "id": "055bb3e1",
   "metadata": {},
   "outputs": [],
   "source": [
    "data_total = data2[data2['category']=='Total']"
   ]
  },
  {
   "cell_type": "code",
   "execution_count": 43,
   "id": "3569d59a",
   "metadata": {},
   "outputs": [
    {
     "name": "stderr",
     "output_type": "stream",
     "text": [
      "<ipython-input-43-922b645a5abe>:1: FutureWarning: The default value of numeric_only in DataFrameGroupBy.sum is deprecated. In a future version, numeric_only will default to False. Either specify numeric_only or select only columns which should be valid for the function.\n",
      "  data_age = data_total.groupby('age').sum()\n"
     ]
    },
    {
     "data": {
      "text/html": [
       "<div>\n",
       "<style scoped>\n",
       "    .dataframe tbody tr th:only-of-type {\n",
       "        vertical-align: middle;\n",
       "    }\n",
       "\n",
       "    .dataframe tbody tr th {\n",
       "        vertical-align: top;\n",
       "    }\n",
       "\n",
       "    .dataframe thead th {\n",
       "        text-align: right;\n",
       "    }\n",
       "</style>\n",
       "<table border=\"1\" class=\"dataframe\">\n",
       "  <thead>\n",
       "    <tr style=\"text-align: right;\">\n",
       "      <th></th>\n",
       "      <th>age</th>\n",
       "      <th>year</th>\n",
       "      <th>total_incidents</th>\n",
       "    </tr>\n",
       "  </thead>\n",
       "  <tbody>\n",
       "    <tr>\n",
       "      <th>0</th>\n",
       "      <td>0.000000</td>\n",
       "      <td>29599320</td>\n",
       "      <td>28530.0</td>\n",
       "    </tr>\n",
       "    <tr>\n",
       "      <th>1</th>\n",
       "      <td>10.000000</td>\n",
       "      <td>22382086</td>\n",
       "      <td>16370.0</td>\n",
       "    </tr>\n",
       "    <tr>\n",
       "      <th>2</th>\n",
       "      <td>20.000000</td>\n",
       "      <td>35137225</td>\n",
       "      <td>55886.0</td>\n",
       "    </tr>\n",
       "    <tr>\n",
       "      <th>3</th>\n",
       "      <td>30.000000</td>\n",
       "      <td>37833268</td>\n",
       "      <td>79555.0</td>\n",
       "    </tr>\n",
       "    <tr>\n",
       "      <th>4</th>\n",
       "      <td>40.000000</td>\n",
       "      <td>36827655</td>\n",
       "      <td>70926.0</td>\n",
       "    </tr>\n",
       "    <tr>\n",
       "      <th>5</th>\n",
       "      <td>48.680481</td>\n",
       "      <td>38422751</td>\n",
       "      <td>18833.0</td>\n",
       "    </tr>\n",
       "    <tr>\n",
       "      <th>6</th>\n",
       "      <td>50.000000</td>\n",
       "      <td>36769081</td>\n",
       "      <td>68530.0</td>\n",
       "    </tr>\n",
       "    <tr>\n",
       "      <th>7</th>\n",
       "      <td>60.000000</td>\n",
       "      <td>35979461</td>\n",
       "      <td>63763.0</td>\n",
       "    </tr>\n",
       "    <tr>\n",
       "      <th>8</th>\n",
       "      <td>70.000000</td>\n",
       "      <td>35995566</td>\n",
       "      <td>63336.0</td>\n",
       "    </tr>\n",
       "    <tr>\n",
       "      <th>9</th>\n",
       "      <td>80.000000</td>\n",
       "      <td>37703984</td>\n",
       "      <td>80486.0</td>\n",
       "    </tr>\n",
       "    <tr>\n",
       "      <th>10</th>\n",
       "      <td>90.000000</td>\n",
       "      <td>33721494</td>\n",
       "      <td>65236.0</td>\n",
       "    </tr>\n",
       "    <tr>\n",
       "      <th>11</th>\n",
       "      <td>100.000000</td>\n",
       "      <td>10446795</td>\n",
       "      <td>9812.0</td>\n",
       "    </tr>\n",
       "    <tr>\n",
       "      <th>12</th>\n",
       "      <td>110.000000</td>\n",
       "      <td>119150</td>\n",
       "      <td>74.0</td>\n",
       "    </tr>\n",
       "  </tbody>\n",
       "</table>\n",
       "</div>"
      ],
      "text/plain": [
       "           age      year  total_incidents\n",
       "0     0.000000  29599320          28530.0\n",
       "1    10.000000  22382086          16370.0\n",
       "2    20.000000  35137225          55886.0\n",
       "3    30.000000  37833268          79555.0\n",
       "4    40.000000  36827655          70926.0\n",
       "5    48.680481  38422751          18833.0\n",
       "6    50.000000  36769081          68530.0\n",
       "7    60.000000  35979461          63763.0\n",
       "8    70.000000  35995566          63336.0\n",
       "9    80.000000  37703984          80486.0\n",
       "10   90.000000  33721494          65236.0\n",
       "11  100.000000  10446795           9812.0\n",
       "12  110.000000    119150             74.0"
      ]
     },
     "execution_count": 43,
     "metadata": {},
     "output_type": "execute_result"
    }
   ],
   "source": [
    "data_age = data_total.groupby('age').sum()\n",
    "data_age.reset_index(inplace = True)\n",
    "data_age"
   ]
  },
  {
   "cell_type": "code",
   "execution_count": 44,
   "id": "585f6718",
   "metadata": {},
   "outputs": [
    {
     "name": "stderr",
     "output_type": "stream",
     "text": [
      "<ipython-input-44-a1a1424682a4>:1: UserWarning: \n",
      "\n",
      "`distplot` is a deprecated function and will be removed in seaborn v0.14.0.\n",
      "\n",
      "Please adapt your code to use either `displot` (a figure-level function with\n",
      "similar flexibility) or `histplot` (an axes-level function for histograms).\n",
      "\n",
      "For a guide to updating your code to use the new functions, please see\n",
      "https://gist.github.com/mwaskom/de44147ed2974457ad6372750bbe5751\n",
      "\n",
      "  sns.distplot(data_age[\"total_incidents\"])\n"
     ]
    },
    {
     "data": {
      "text/plain": [
       "<AxesSubplot:xlabel='total_incidents', ylabel='Density'>"
      ]
     },
     "execution_count": 44,
     "metadata": {},
     "output_type": "execute_result"
    },
    {
     "data": {
      "image/png": "[encoded data removed]",
      "text/plain": [
       "<Figure size 432x288 with 1 Axes>"
      ]
     },
     "metadata": {
      "needs_background": "light"
     },
     "output_type": "display_data"
    }
   ],
   "source": [
    "sns.distplot(data_age[\"total_incidents\"])"
   ]
  },
  {
   "cell_type": "code",
   "execution_count": 45,
   "id": "1160f5de",
   "metadata": {
    "scrolled": true
   },
   "outputs": [
    {
     "data": {
      "text/html": [
       "<div>\n",
       "<style scoped>\n",
       "    .dataframe tbody tr th:only-of-type {\n",
       "        vertical-align: middle;\n",
       "    }\n",
       "\n",
       "    .dataframe tbody tr th {\n",
       "        vertical-align: top;\n",
       "    }\n",
       "\n",
       "    .dataframe thead th {\n",
       "        text-align: right;\n",
       "    }\n",
       "</style>\n",
       "<table border=\"1\" class=\"dataframe\">\n",
       "  <thead>\n",
       "    <tr style=\"text-align: right;\">\n",
       "      <th></th>\n",
       "      <th>age</th>\n",
       "      <th>total_incidents</th>\n",
       "    </tr>\n",
       "  </thead>\n",
       "  <tbody>\n",
       "    <tr>\n",
       "      <th>0</th>\n",
       "      <td>0</td>\n",
       "      <td>28530.0</td>\n",
       "    </tr>\n",
       "    <tr>\n",
       "      <th>1</th>\n",
       "      <td>10</td>\n",
       "      <td>16370.0</td>\n",
       "    </tr>\n",
       "    <tr>\n",
       "      <th>2</th>\n",
       "      <td>20</td>\n",
       "      <td>55886.0</td>\n",
       "    </tr>\n",
       "    <tr>\n",
       "      <th>3</th>\n",
       "      <td>30</td>\n",
       "      <td>79555.0</td>\n",
       "    </tr>\n",
       "    <tr>\n",
       "      <th>4</th>\n",
       "      <td>40</td>\n",
       "      <td>70926.0</td>\n",
       "    </tr>\n",
       "    <tr>\n",
       "      <th>5</th>\n",
       "      <td>48</td>\n",
       "      <td>18833.0</td>\n",
       "    </tr>\n",
       "    <tr>\n",
       "      <th>6</th>\n",
       "      <td>50</td>\n",
       "      <td>68530.0</td>\n",
       "    </tr>\n",
       "    <tr>\n",
       "      <th>7</th>\n",
       "      <td>60</td>\n",
       "      <td>63763.0</td>\n",
       "    </tr>\n",
       "    <tr>\n",
       "      <th>8</th>\n",
       "      <td>70</td>\n",
       "      <td>63336.0</td>\n",
       "    </tr>\n",
       "    <tr>\n",
       "      <th>9</th>\n",
       "      <td>80</td>\n",
       "      <td>80486.0</td>\n",
       "    </tr>\n",
       "    <tr>\n",
       "      <th>10</th>\n",
       "      <td>90</td>\n",
       "      <td>65236.0</td>\n",
       "    </tr>\n",
       "    <tr>\n",
       "      <th>11</th>\n",
       "      <td>100</td>\n",
       "      <td>9812.0</td>\n",
       "    </tr>\n",
       "    <tr>\n",
       "      <th>12</th>\n",
       "      <td>110</td>\n",
       "      <td>74.0</td>\n",
       "    </tr>\n",
       "  </tbody>\n",
       "</table>\n",
       "</div>"
      ],
      "text/plain": [
       "    age  total_incidents\n",
       "0     0          28530.0\n",
       "1    10          16370.0\n",
       "2    20          55886.0\n",
       "3    30          79555.0\n",
       "4    40          70926.0\n",
       "5    48          18833.0\n",
       "6    50          68530.0\n",
       "7    60          63763.0\n",
       "8    70          63336.0\n",
       "9    80          80486.0\n",
       "10   90          65236.0\n",
       "11  100           9812.0\n",
       "12  110             74.0"
      ]
     },
     "execution_count": 45,
     "metadata": {},
     "output_type": "execute_result"
    }
   ],
   "source": [
    "data_age['age'] = data_age['age'].apply(lambda x:int(x))\n",
    "cols = ['age','total_incidents']\n",
    "data_age[cols]"
   ]
  },
  {
   "cell_type": "code",
   "execution_count": 70,
   "id": "1c2fad12",
   "metadata": {},
   "outputs": [
    {
     "data": {
      "text/html": [
       "<div>\n",
       "<style scoped>\n",
       "    .dataframe tbody tr th:only-of-type {\n",
       "        vertical-align: middle;\n",
       "    }\n",
       "\n",
       "    .dataframe tbody tr th {\n",
       "        vertical-align: top;\n",
       "    }\n",
       "\n",
       "    .dataframe thead th {\n",
       "        text-align: right;\n",
       "    }\n",
       "</style>\n",
       "<table border=\"1\" class=\"dataframe\">\n",
       "  <thead>\n",
       "    <tr style=\"text-align: right;\">\n",
       "      <th></th>\n",
       "      <th>age</th>\n",
       "      <th>year</th>\n",
       "      <th>total_incidents</th>\n",
       "    </tr>\n",
       "  </thead>\n",
       "  <tbody>\n",
       "    <tr>\n",
       "      <th>age</th>\n",
       "      <td>1.000000</td>\n",
       "      <td>-0.458999</td>\n",
       "      <td>-0.121677</td>\n",
       "    </tr>\n",
       "    <tr>\n",
       "      <th>year</th>\n",
       "      <td>-0.458999</td>\n",
       "      <td>1.000000</td>\n",
       "      <td>0.792259</td>\n",
       "    </tr>\n",
       "    <tr>\n",
       "      <th>total_incidents</th>\n",
       "      <td>-0.121677</td>\n",
       "      <td>0.792259</td>\n",
       "      <td>1.000000</td>\n",
       "    </tr>\n",
       "  </tbody>\n",
       "</table>\n",
       "</div>"
      ],
      "text/plain": [
       "                      age      year  total_incidents\n",
       "age              1.000000 -0.458999        -0.121677\n",
       "year            -0.458999  1.000000         0.792259\n",
       "total_incidents -0.121677  0.792259         1.000000"
      ]
     },
     "execution_count": 70,
     "metadata": {},
     "output_type": "execute_result"
    }
   ],
   "source": [
    "data_age.corr()"
   ]
  },
  {
   "cell_type": "code",
   "execution_count": 68,
   "id": "6449dac3",
   "metadata": {},
   "outputs": [
    {
     "data": {
      "text/plain": [
       "<AxesSubplot:xlabel='age', ylabel='total_incidents'>"
      ]
     },
     "execution_count": 68,
     "metadata": {},
     "output_type": "execute_result"
    },
    {
     "data": {
      "image/png": "[encoded data removed]",
      "text/plain": [
       "<Figure size 432x288 with 1 Axes>"
      ]
     },
     "metadata": {},
     "output_type": "display_data"
    }
   ],
   "source": [
    "sns.barplot(data=data_age, x=\"age\", y=\"total_incidents\")"
   ]
  },
  {
   "cell_type": "code",
   "execution_count": null,
   "id": "74b2b5b0",
   "metadata": {},
   "outputs": [],
   "source": []
  },
  {
   "cell_type": "code",
   "execution_count": 47,
   "id": "f3f1b15f",
   "metadata": {},
   "outputs": [
    {
     "data": {
      "text/plain": [
       "<seaborn.axisgrid.FacetGrid at 0x7fa0627dd850>"
      ]
     },
     "execution_count": 47,
     "metadata": {},
     "output_type": "execute_result"
    },
    {
     "data": {
      "image/png": "[encoded data removed]",
      "text/plain": [
       "<Figure size 360x360 with 1 Axes>"
      ]
     },
     "metadata": {},
     "output_type": "display_data"
    }
   ],
   "source": [
    "sns.set_style('whitegrid')\n",
    "sns.lmplot(x ='age', y ='total_incidents', data = data_age)"
   ]
  },
  {
   "cell_type": "code",
   "execution_count": 48,
   "id": "76d943d3",
   "metadata": {},
   "outputs": [
    {
     "name": "stderr",
     "output_type": "stream",
     "text": [
      "<ipython-input-48-9feb5b725733>:1: FutureWarning: The default value of numeric_only in DataFrameGroupBy.sum is deprecated. In a future version, numeric_only will default to False. Either specify numeric_only or select only columns which should be valid for the function.\n",
      "  data_sex = data_total.groupby('sex').sum()\n"
     ]
    },
    {
     "data": {
      "text/html": [
       "<div>\n",
       "<style scoped>\n",
       "    .dataframe tbody tr th:only-of-type {\n",
       "        vertical-align: middle;\n",
       "    }\n",
       "\n",
       "    .dataframe tbody tr th {\n",
       "        vertical-align: top;\n",
       "    }\n",
       "\n",
       "    .dataframe thead th {\n",
       "        text-align: right;\n",
       "    }\n",
       "</style>\n",
       "<table border=\"1\" class=\"dataframe\">\n",
       "  <thead>\n",
       "    <tr style=\"text-align: right;\">\n",
       "      <th></th>\n",
       "      <th>sex</th>\n",
       "      <th>year</th>\n",
       "      <th>age</th>\n",
       "      <th>total_incidents</th>\n",
       "    </tr>\n",
       "  </thead>\n",
       "  <tbody>\n",
       "    <tr>\n",
       "      <th>0</th>\n",
       "      <td>F</td>\n",
       "      <td>180072274</td>\n",
       "      <td>4.421607e+06</td>\n",
       "      <td>315578.0</td>\n",
       "    </tr>\n",
       "    <tr>\n",
       "      <th>1</th>\n",
       "      <td>M</td>\n",
       "      <td>177206681</td>\n",
       "      <td>4.168773e+06</td>\n",
       "      <td>291551.0</td>\n",
       "    </tr>\n",
       "    <tr>\n",
       "      <th>2</th>\n",
       "      <td>U</td>\n",
       "      <td>33658881</td>\n",
       "      <td>8.332845e+05</td>\n",
       "      <td>14208.0</td>\n",
       "    </tr>\n",
       "  </tbody>\n",
       "</table>\n",
       "</div>"
      ],
      "text/plain": [
       "  sex       year           age  total_incidents\n",
       "0   F  180072274  4.421607e+06         315578.0\n",
       "1   M  177206681  4.168773e+06         291551.0\n",
       "2   U   33658881  8.332845e+05          14208.0"
      ]
     },
     "execution_count": 48,
     "metadata": {},
     "output_type": "execute_result"
    }
   ],
   "source": [
    "data_sex = data_total.groupby('sex').sum()\n",
    "data_sex.reset_index(inplace = True)\n",
    "data_sex"
   ]
  },
  {
   "cell_type": "code",
   "execution_count": 71,
   "id": "66025295",
   "metadata": {},
   "outputs": [
    {
     "name": "stderr",
     "output_type": "stream",
     "text": [
      "<ipython-input-71-a5b1cb55dfae>:1: FutureWarning: The default value of numeric_only in DataFrame.corr is deprecated. In a future version, it will default to False. Select only valid columns or specify the value of numeric_only to silence this warning.\n",
      "  data_sex.corr()\n"
     ]
    },
    {
     "data": {
      "text/html": [
       "<div>\n",
       "<style scoped>\n",
       "    .dataframe tbody tr th:only-of-type {\n",
       "        vertical-align: middle;\n",
       "    }\n",
       "\n",
       "    .dataframe tbody tr th {\n",
       "        vertical-align: top;\n",
       "    }\n",
       "\n",
       "    .dataframe thead th {\n",
       "        text-align: right;\n",
       "    }\n",
       "</style>\n",
       "<table border=\"1\" class=\"dataframe\">\n",
       "  <thead>\n",
       "    <tr style=\"text-align: right;\">\n",
       "      <th></th>\n",
       "      <th>year</th>\n",
       "      <th>age</th>\n",
       "      <th>total_incidents</th>\n",
       "    </tr>\n",
       "  </thead>\n",
       "  <tbody>\n",
       "    <tr>\n",
       "      <th>year</th>\n",
       "      <td>1.000000</td>\n",
       "      <td>0.998940</td>\n",
       "      <td>0.998506</td>\n",
       "    </tr>\n",
       "    <tr>\n",
       "      <th>age</th>\n",
       "      <td>0.998940</td>\n",
       "      <td>1.000000</td>\n",
       "      <td>0.999963</td>\n",
       "    </tr>\n",
       "    <tr>\n",
       "      <th>total_incidents</th>\n",
       "      <td>0.998506</td>\n",
       "      <td>0.999963</td>\n",
       "      <td>1.000000</td>\n",
       "    </tr>\n",
       "  </tbody>\n",
       "</table>\n",
       "</div>"
      ],
      "text/plain": [
       "                     year       age  total_incidents\n",
       "year             1.000000  0.998940         0.998506\n",
       "age              0.998940  1.000000         0.999963\n",
       "total_incidents  0.998506  0.999963         1.000000"
      ]
     },
     "execution_count": 71,
     "metadata": {},
     "output_type": "execute_result"
    }
   ],
   "source": [
    "data_sex.corr()"
   ]
  },
  {
   "cell_type": "code",
   "execution_count": 49,
   "id": "b8c134f1",
   "metadata": {},
   "outputs": [
    {
     "data": {
      "text/html": [
       "<div>\n",
       "<style scoped>\n",
       "    .dataframe tbody tr th:only-of-type {\n",
       "        vertical-align: middle;\n",
       "    }\n",
       "\n",
       "    .dataframe tbody tr th {\n",
       "        vertical-align: top;\n",
       "    }\n",
       "\n",
       "    .dataframe thead th {\n",
       "        text-align: right;\n",
       "    }\n",
       "</style>\n",
       "<table border=\"1\" class=\"dataframe\">\n",
       "  <thead>\n",
       "    <tr style=\"text-align: right;\">\n",
       "      <th></th>\n",
       "      <th>sex</th>\n",
       "      <th>total_incidents</th>\n",
       "    </tr>\n",
       "  </thead>\n",
       "  <tbody>\n",
       "    <tr>\n",
       "      <th>0</th>\n",
       "      <td>F</td>\n",
       "      <td>315578.0</td>\n",
       "    </tr>\n",
       "    <tr>\n",
       "      <th>1</th>\n",
       "      <td>M</td>\n",
       "      <td>291551.0</td>\n",
       "    </tr>\n",
       "    <tr>\n",
       "      <th>2</th>\n",
       "      <td>U</td>\n",
       "      <td>14208.0</td>\n",
       "    </tr>\n",
       "  </tbody>\n",
       "</table>\n",
       "</div>"
      ],
      "text/plain": [
       "  sex  total_incidents\n",
       "0   F         315578.0\n",
       "1   M         291551.0\n",
       "2   U          14208.0"
      ]
     },
     "execution_count": 49,
     "metadata": {},
     "output_type": "execute_result"
    }
   ],
   "source": [
    "cols = ['sex','total_incidents']\n",
    "data_sex[cols]"
   ]
  },
  {
   "cell_type": "code",
   "execution_count": 50,
   "id": "0d9002c8",
   "metadata": {},
   "outputs": [
    {
     "data": {
      "text/plain": [
       "167491.4491737812"
      ]
     },
     "execution_count": 50,
     "metadata": {},
     "output_type": "execute_result"
    }
   ],
   "source": [
    "data_sex['total_incidents'].std()"
   ]
  },
  {
   "cell_type": "code",
   "execution_count": 51,
   "id": "9b775cc0",
   "metadata": {},
   "outputs": [
    {
     "data": {
      "text/plain": [
       "207112.33333333334"
      ]
     },
     "execution_count": 51,
     "metadata": {},
     "output_type": "execute_result"
    }
   ],
   "source": [
    "data_sex['total_incidents'].mean()"
   ]
  },
  {
   "cell_type": "code",
   "execution_count": 52,
   "id": "4dc53701",
   "metadata": {},
   "outputs": [
    {
     "data": {
      "text/plain": [
       "<AxesSubplot:xlabel='sex', ylabel='total_incidents'>"
      ]
     },
     "execution_count": 52,
     "metadata": {},
     "output_type": "execute_result"
    },
    {
     "data": {
      "image/png": "[encoded data removed]",
      "text/plain": [
       "<Figure size 432x288 with 1 Axes>"
      ]
     },
     "metadata": {},
     "output_type": "display_data"
    }
   ],
   "source": [
    "sns.barplot(data=data_sex, x=\"sex\", y=\"total_incidents\")"
   ]
  },
  {
   "cell_type": "code",
   "execution_count": 53,
   "id": "f09e8ee6",
   "metadata": {},
   "outputs": [
    {
     "name": "stderr",
     "output_type": "stream",
     "text": [
      "<ipython-input-53-fc918e023548>:1: FutureWarning: The default value of numeric_only in DataFrameGroupBy.sum is deprecated. In a future version, numeric_only will default to False. Either specify numeric_only or select only columns which should be valid for the function.\n",
      "  data_cat = data1.groupby('category').sum()\n"
     ]
    },
    {
     "data": {
      "text/html": [
       "<div>\n",
       "<style scoped>\n",
       "    .dataframe tbody tr th:only-of-type {\n",
       "        vertical-align: middle;\n",
       "    }\n",
       "\n",
       "    .dataframe tbody tr th {\n",
       "        vertical-align: top;\n",
       "    }\n",
       "\n",
       "    .dataframe thead th {\n",
       "        text-align: right;\n",
       "    }\n",
       "</style>\n",
       "<table border=\"1\" class=\"dataframe\">\n",
       "  <thead>\n",
       "    <tr style=\"text-align: right;\">\n",
       "      <th></th>\n",
       "      <th>category</th>\n",
       "      <th>year</th>\n",
       "      <th>total_incidents</th>\n",
       "    </tr>\n",
       "  </thead>\n",
       "  <tbody>\n",
       "    <tr>\n",
       "      <th>0</th>\n",
       "      <td>C1</td>\n",
       "      <td>19132660</td>\n",
       "      <td>49714.0</td>\n",
       "    </tr>\n",
       "    <tr>\n",
       "      <th>1</th>\n",
       "      <td>C2</td>\n",
       "      <td>20716042</td>\n",
       "      <td>355897.0</td>\n",
       "    </tr>\n",
       "    <tr>\n",
       "      <th>2</th>\n",
       "      <td>C3</td>\n",
       "      <td>20913931</td>\n",
       "      <td>138416.0</td>\n",
       "    </tr>\n",
       "    <tr>\n",
       "      <th>3</th>\n",
       "      <td>C4</td>\n",
       "      <td>14192714</td>\n",
       "      <td>13747.0</td>\n",
       "    </tr>\n",
       "    <tr>\n",
       "      <th>4</th>\n",
       "      <td>C5</td>\n",
       "      <td>19890089</td>\n",
       "      <td>32729.0</td>\n",
       "    </tr>\n",
       "    <tr>\n",
       "      <th>5</th>\n",
       "      <td>O</td>\n",
       "      <td>14021719</td>\n",
       "      <td>18311.0</td>\n",
       "    </tr>\n",
       "    <tr>\n",
       "      <th>6</th>\n",
       "      <td>Total</td>\n",
       "      <td>21388534</td>\n",
       "      <td>625471.0</td>\n",
       "    </tr>\n",
       "  </tbody>\n",
       "</table>\n",
       "</div>"
      ],
      "text/plain": [
       "  category      year  total_incidents\n",
       "0      C1   19132660          49714.0\n",
       "1      C2   20716042         355897.0\n",
       "2      C3   20913931         138416.0\n",
       "3      C4   14192714          13747.0\n",
       "4      C5   19890089          32729.0\n",
       "5      O    14021719          18311.0\n",
       "6    Total  21388534         625471.0"
      ]
     },
     "execution_count": 53,
     "metadata": {},
     "output_type": "execute_result"
    }
   ],
   "source": [
    "data_cat = data1.groupby('category').sum()\n",
    "data_cat.reset_index(inplace = True)\n",
    "data_cat"
   ]
  },
  {
   "cell_type": "code",
   "execution_count": 54,
   "id": "abdaa688",
   "metadata": {},
   "outputs": [
    {
     "data": {
      "text/html": [
       "<div>\n",
       "<style scoped>\n",
       "    .dataframe tbody tr th:only-of-type {\n",
       "        vertical-align: middle;\n",
       "    }\n",
       "\n",
       "    .dataframe tbody tr th {\n",
       "        vertical-align: top;\n",
       "    }\n",
       "\n",
       "    .dataframe thead th {\n",
       "        text-align: right;\n",
       "    }\n",
       "</style>\n",
       "<table border=\"1\" class=\"dataframe\">\n",
       "  <thead>\n",
       "    <tr style=\"text-align: right;\">\n",
       "      <th></th>\n",
       "      <th>category</th>\n",
       "      <th>total_incidents</th>\n",
       "    </tr>\n",
       "  </thead>\n",
       "  <tbody>\n",
       "    <tr>\n",
       "      <th>0</th>\n",
       "      <td>C1</td>\n",
       "      <td>49714.0</td>\n",
       "    </tr>\n",
       "    <tr>\n",
       "      <th>1</th>\n",
       "      <td>C2</td>\n",
       "      <td>355897.0</td>\n",
       "    </tr>\n",
       "    <tr>\n",
       "      <th>2</th>\n",
       "      <td>C3</td>\n",
       "      <td>138416.0</td>\n",
       "    </tr>\n",
       "    <tr>\n",
       "      <th>3</th>\n",
       "      <td>C4</td>\n",
       "      <td>13747.0</td>\n",
       "    </tr>\n",
       "    <tr>\n",
       "      <th>4</th>\n",
       "      <td>C5</td>\n",
       "      <td>32729.0</td>\n",
       "    </tr>\n",
       "    <tr>\n",
       "      <th>5</th>\n",
       "      <td>O</td>\n",
       "      <td>18311.0</td>\n",
       "    </tr>\n",
       "    <tr>\n",
       "      <th>6</th>\n",
       "      <td>Total</td>\n",
       "      <td>625471.0</td>\n",
       "    </tr>\n",
       "  </tbody>\n",
       "</table>\n",
       "</div>"
      ],
      "text/plain": [
       "  category  total_incidents\n",
       "0      C1           49714.0\n",
       "1      C2          355897.0\n",
       "2      C3          138416.0\n",
       "3      C4           13747.0\n",
       "4      C5           32729.0\n",
       "5      O            18311.0\n",
       "6    Total         625471.0"
      ]
     },
     "execution_count": 54,
     "metadata": {},
     "output_type": "execute_result"
    }
   ],
   "source": [
    "cols = ['category','total_incidents']\n",
    "df2 = data_cat[cols]\n",
    "df2"
   ]
  },
  {
   "cell_type": "code",
   "execution_count": 55,
   "id": "03057dbe",
   "metadata": {},
   "outputs": [
    {
     "data": {
      "text/plain": [
       "176326.42857142858"
      ]
     },
     "execution_count": 55,
     "metadata": {},
     "output_type": "execute_result"
    }
   ],
   "source": [
    "df2['total_incidents'].mean()"
   ]
  },
  {
   "cell_type": "code",
   "execution_count": 56,
   "id": "c7eb2949",
   "metadata": {},
   "outputs": [
    {
     "data": {
      "text/plain": [
       "232187.24899805698"
      ]
     },
     "execution_count": 56,
     "metadata": {},
     "output_type": "execute_result"
    }
   ],
   "source": [
    "df2['total_incidents'].std()"
   ]
  },
  {
   "cell_type": "code",
   "execution_count": 57,
   "id": "2ea701f0",
   "metadata": {},
   "outputs": [
    {
     "data": {
      "text/plain": [
       "<AxesSubplot:xlabel='category', ylabel='total_incidents'>"
      ]
     },
     "execution_count": 57,
     "metadata": {},
     "output_type": "execute_result"
    },
    {
     "data": {
      "image/png": "[encoded data removed]",
      "text/plain": [
       "<Figure size 432x288 with 1 Axes>"
      ]
     },
     "metadata": {},
     "output_type": "display_data"
    }
   ],
   "source": [
    "sns.barplot(data=data_cat, x=\"category\", y=\"total_incidents\")"
   ]
  },
  {
   "cell_type": "code",
   "execution_count": 58,
   "id": "ea79100b",
   "metadata": {},
   "outputs": [
    {
     "data": {
      "text/plain": [
       "<AxesSubplot:xlabel='category', ylabel='total_incidents'>"
      ]
     },
     "execution_count": 58,
     "metadata": {},
     "output_type": "execute_result"
    },
    {
     "data": {
      "image/png": "[encoded data removed]",
      "text/plain": [
       "<Figure size 432x288 with 1 Axes>"
      ]
     },
     "metadata": {},
     "output_type": "display_data"
    }
   ],
   "source": [
    "sns.barplot(data=data_cat.iloc[:-1,:], x=\"category\", y=\"total_incidents\")"
   ]
  },
  {
   "cell_type": "code",
   "execution_count": 59,
   "id": "233af3ef",
   "metadata": {},
   "outputs": [
    {
     "data": {
      "text/html": [
       "<div>\n",
       "<style scoped>\n",
       "    .dataframe tbody tr th:only-of-type {\n",
       "        vertical-align: middle;\n",
       "    }\n",
       "\n",
       "    .dataframe tbody tr th {\n",
       "        vertical-align: top;\n",
       "    }\n",
       "\n",
       "    .dataframe thead th {\n",
       "        text-align: right;\n",
       "    }\n",
       "</style>\n",
       "<table border=\"1\" class=\"dataframe\">\n",
       "  <thead>\n",
       "    <tr style=\"text-align: right;\">\n",
       "      <th></th>\n",
       "      <th>District</th>\n",
       "      <th>total_incidents</th>\n",
       "    </tr>\n",
       "  </thead>\n",
       "  <tbody>\n",
       "    <tr>\n",
       "      <th>0</th>\n",
       "      <td>Barking and Dagenham</td>\n",
       "      <td>31841.0</td>\n",
       "    </tr>\n",
       "    <tr>\n",
       "      <th>1</th>\n",
       "      <td>Barnet</td>\n",
       "      <td>50518.0</td>\n",
       "    </tr>\n",
       "    <tr>\n",
       "      <th>2</th>\n",
       "      <td>Bexley</td>\n",
       "      <td>33876.0</td>\n",
       "    </tr>\n",
       "    <tr>\n",
       "      <th>3</th>\n",
       "      <td>Brent</td>\n",
       "      <td>48748.0</td>\n",
       "    </tr>\n",
       "    <tr>\n",
       "      <th>4</th>\n",
       "      <td>Brentwood</td>\n",
       "      <td>0.0</td>\n",
       "    </tr>\n",
       "  </tbody>\n",
       "</table>\n",
       "</div>"
      ],
      "text/plain": [
       "               District  total_incidents\n",
       "0  Barking and Dagenham          31841.0\n",
       "1                Barnet          50518.0\n",
       "2                Bexley          33876.0\n",
       "3                 Brent          48748.0\n",
       "4             Brentwood              0.0"
      ]
     },
     "execution_count": 59,
     "metadata": {},
     "output_type": "execute_result"
    }
   ],
   "source": [
    "df_new1 = df_new1.reset_index()\n",
    "df_new1.head()"
   ]
  },
  {
   "cell_type": "code",
   "execution_count": 60,
   "id": "4dc2a9eb",
   "metadata": {},
   "outputs": [
    {
     "data": {
      "text/plain": [
       "21280.775862068964"
      ]
     },
     "execution_count": 60,
     "metadata": {},
     "output_type": "execute_result"
    }
   ],
   "source": [
    "df_new1['total_incidents'].mean()"
   ]
  },
  {
   "cell_type": "code",
   "execution_count": 61,
   "id": "9493da46",
   "metadata": {},
   "outputs": [
    {
     "data": {
      "text/plain": [
       "20334.626922362946"
      ]
     },
     "execution_count": 61,
     "metadata": {},
     "output_type": "execute_result"
    }
   ],
   "source": [
    "df_new1['total_incidents'].std()"
   ]
  },
  {
   "cell_type": "code",
   "execution_count": null,
   "id": "1cdf8348",
   "metadata": {},
   "outputs": [],
   "source": [
    "df_new1"
   ]
  },
  {
   "cell_type": "code",
   "execution_count": 75,
   "id": "e888b616",
   "metadata": {},
   "outputs": [
    {
     "data": {
      "text/plain": [
       "<AxesSubplot:xlabel='District', ylabel='total_incidents'>"
      ]
     },
     "execution_count": 75,
     "metadata": {},
     "output_type": "execute_result"
    },
    {
     "data": {
      "image/png": "[encoded data removed]",
      "text/plain": [
       "<Figure size 2160x720 with 1 Axes>"
      ]
     },
     "metadata": {},
     "output_type": "display_data"
    }
   ],
   "source": [
    "fig = plt.figure(figsize = (30, 10))\n",
    "sns.barplot(data=df_new1,x = 'District',y = 'total_incidents')"
   ]
  },
  {
   "cell_type": "code",
   "execution_count": 63,
   "id": "7234a370",
   "metadata": {},
   "outputs": [
    {
     "data": {
      "text/plain": [
       "E01021443    68\n",
       "E01000428    66\n",
       "E01002444    65\n",
       "E01000600    64\n",
       "E01032574    63\n",
       "             ..\n",
       "E01033612     1\n",
       "E01023552     1\n",
       "E01023533     1\n",
       "E01023526     1\n",
       "E01033613     1\n",
       "Name: LSOA11CD, Length: 5419, dtype: int64"
      ]
     },
     "execution_count": 63,
     "metadata": {},
     "output_type": "execute_result"
    }
   ],
   "source": [
    "data2.LSOA11CD.value_counts()"
   ]
  },
  {
   "cell_type": "code",
   "execution_count": 64,
   "id": "605a83d7",
   "metadata": {},
   "outputs": [
    {
     "name": "stderr",
     "output_type": "stream",
     "text": [
      "<ipython-input-64-a75a6ebc5ff8>:1: FutureWarning: The default value of numeric_only in DataFrameGroupBy.sum is deprecated. In a future version, numeric_only will default to False. Either specify numeric_only or select only columns which should be valid for the function.\n",
      "  data_year = data_total.groupby('year').sum()\n"
     ]
    },
    {
     "data": {
      "text/html": [
       "<div>\n",
       "<style scoped>\n",
       "    .dataframe tbody tr th:only-of-type {\n",
       "        vertical-align: middle;\n",
       "    }\n",
       "\n",
       "    .dataframe tbody tr th {\n",
       "        vertical-align: top;\n",
       "    }\n",
       "\n",
       "    .dataframe thead th {\n",
       "        text-align: right;\n",
       "    }\n",
       "</style>\n",
       "<table border=\"1\" class=\"dataframe\">\n",
       "  <thead>\n",
       "    <tr style=\"text-align: right;\">\n",
       "      <th></th>\n",
       "      <th>year</th>\n",
       "      <th>total_incidents</th>\n",
       "    </tr>\n",
       "  </thead>\n",
       "  <tbody>\n",
       "    <tr>\n",
       "      <th>0</th>\n",
       "      <td>2019</td>\n",
       "      <td>314379.0</td>\n",
       "    </tr>\n",
       "    <tr>\n",
       "      <th>1</th>\n",
       "      <td>2020</td>\n",
       "      <td>306958.0</td>\n",
       "    </tr>\n",
       "  </tbody>\n",
       "</table>\n",
       "</div>"
      ],
      "text/plain": [
       "   year  total_incidents\n",
       "0  2019         314379.0\n",
       "1  2020         306958.0"
      ]
     },
     "execution_count": 64,
     "metadata": {},
     "output_type": "execute_result"
    }
   ],
   "source": [
    "data_year = data_total.groupby('year').sum()\n",
    "data_year.reset_index(inplace = True)\n",
    "cols  = ['year','total_incidents']\n",
    "data_year[cols]"
   ]
  },
  {
   "cell_type": "code",
   "execution_count": 72,
   "id": "799972af",
   "metadata": {},
   "outputs": [
    {
     "data": {
      "text/html": [
       "<div>\n",
       "<style scoped>\n",
       "    .dataframe tbody tr th:only-of-type {\n",
       "        vertical-align: middle;\n",
       "    }\n",
       "\n",
       "    .dataframe tbody tr th {\n",
       "        vertical-align: top;\n",
       "    }\n",
       "\n",
       "    .dataframe thead th {\n",
       "        text-align: right;\n",
       "    }\n",
       "</style>\n",
       "<table border=\"1\" class=\"dataframe\">\n",
       "  <thead>\n",
       "    <tr style=\"text-align: right;\">\n",
       "      <th></th>\n",
       "      <th>year</th>\n",
       "      <th>age</th>\n",
       "      <th>total_incidents</th>\n",
       "    </tr>\n",
       "  </thead>\n",
       "  <tbody>\n",
       "    <tr>\n",
       "      <th>year</th>\n",
       "      <td>1.0</td>\n",
       "      <td>-1.0</td>\n",
       "      <td>-1.0</td>\n",
       "    </tr>\n",
       "    <tr>\n",
       "      <th>age</th>\n",
       "      <td>-1.0</td>\n",
       "      <td>1.0</td>\n",
       "      <td>1.0</td>\n",
       "    </tr>\n",
       "    <tr>\n",
       "      <th>total_incidents</th>\n",
       "      <td>-1.0</td>\n",
       "      <td>1.0</td>\n",
       "      <td>1.0</td>\n",
       "    </tr>\n",
       "  </tbody>\n",
       "</table>\n",
       "</div>"
      ],
      "text/plain": [
       "                 year  age  total_incidents\n",
       "year              1.0 -1.0             -1.0\n",
       "age              -1.0  1.0              1.0\n",
       "total_incidents  -1.0  1.0              1.0"
      ]
     },
     "execution_count": 72,
     "metadata": {},
     "output_type": "execute_result"
    }
   ],
   "source": [
    "data_year.corr()"
   ]
  },
  {
   "cell_type": "code",
   "execution_count": 69,
   "id": "7bd95bcb",
   "metadata": {},
   "outputs": [
    {
     "data": {
      "text/plain": [
       "0.023605266255061565"
      ]
     },
     "execution_count": 69,
     "metadata": {},
     "output_type": "execute_result"
    }
   ],
   "source": [
    "(314379.0-306958.0)/314379"
   ]
  },
  {
   "cell_type": "code",
   "execution_count": 76,
   "id": "baf06167",
   "metadata": {},
   "outputs": [
    {
     "data": {
      "text/plain": [
       "<AxesSubplot: xlabel='year', ylabel='total_incidents'>"
      ]
     },
     "execution_count": 76,
     "metadata": {},
     "output_type": "execute_result"
    },
    {
     "data": {
      "image/png": "[encoded data removed]",
      "text/plain": [
       "<Figure size 432x288 with 1 Axes>"
      ]
     },
     "metadata": {},
     "output_type": "display_data"
    }
   ],
   "source": [
    "sns.barplot(data=data_year, x=\"year\", y=\"total_incidents\")"
   ]
  },
  {
   "cell_type": "code",
   "execution_count": 95,
   "id": "da74c198",
   "metadata": {},
   "outputs": [
    {
     "data": {
      "text/plain": [
       "310668.5"
      ]
     },
     "execution_count": 95,
     "metadata": {},
     "output_type": "execute_result"
    }
   ],
   "source": [
    "data_year['total_incidents'].mean()"
   ]
  },
  {
   "cell_type": "code",
   "execution_count": 96,
   "id": "f3a723cd",
   "metadata": {},
   "outputs": [
    {
     "data": {
      "text/plain": [
       "5247.439423185369"
      ]
     },
     "execution_count": 96,
     "metadata": {},
     "output_type": "execute_result"
    }
   ],
   "source": [
    "data_year['total_incidents'].std()"
   ]
  },
  {
   "cell_type": "markdown",
   "id": "6fa7b6e0",
   "metadata": {},
   "source": [
    "## Preprocessing"
   ]
  },
  {
   "cell_type": "code",
   "execution_count": 90,
   "id": "c6034acd",
   "metadata": {},
   "outputs": [],
   "source": [
    "def LoadData(path,date):\n",
    "    d1=pd.read_csv(path+date)\n",
    "    d1.loc[:,\"SUM_Field15\"] = d1.loc[:,\"SUM_Field15\"].fillna(d1.loc[:,\"SUM_Field15\"].median())\n",
    "    d1.loc[:,\"c1\"] = d1.loc[:,\"c1\"].fillna(0)\n",
    "    d1.loc[:,\"c2\"] = d1.loc[:,\"c2\"].fillna(0)\n",
    "    d1.loc[:,\"c3\"] = d1.loc[:,\"c3\"].fillna(0)\n",
    "    d1.loc[:,\"c4\"] = d1.loc[:,\"c4\"].fillna(0)\n",
    "    d1.loc[:,\"c5\"] = d1.loc[:,\"c5\"].fillna(0)\n",
    "    d1.loc[:,\"c0\"] = d1.loc[:,\"c0\"].fillna(0)\n",
    "    #d1.loc[:,\"agenull\"] = d1.loc[:,\"agenull\"].fillna(0)\n",
    "    #d1.loc[:,\"age10\"] = d1.loc[:,\"age10\"].fillna(0)\n",
    "    #d1.loc[:,\"age20\"] = d1.loc[:,\"age20\"].fillna(0)\n",
    "    #d1.loc[:,\"age30\"] = d1.loc[:,\"age30\"].fillna(0)\n",
    "    #d1.loc[:,\"age40\"] = d1.loc[:,\"age40\"].fillna(0)\n",
    "    #d1.loc[:,\"age50\"] = d1.loc[:,\"age50\"].fillna(0)\n",
    "    #d1.loc[:,\"age60\"] = d1.loc[:,\"age60\"].fillna(0)\n",
    "    #d1.loc[:,\"age70\"] = d1.loc[:,\"age70\"].fillna(0)\n",
    "    #d1.loc[:,\"age80\"] = d1.loc[:,\"age80\"].fillna(0)\n",
    "    #d1.loc[:,\"age90\"] = d1.loc[:,\"age90\"].fillna(0)\n",
    "    #d1.loc[:,\"age100\"] = d1.loc[:,\"age100\"].fillna(0)\n",
    "    d1.loc[:,\"total_incidents\"] = d1.loc[:,\"total_incidents\"].fillna(d1.loc[:,\"total_incidents\"].median())\n",
    "    d1.loc[:,\"PNT_COUNT\"] = d1.loc[:,\"PNT_COUNT\"].fillna(d1.loc[:,\"PNT_COUNT\"].median())\n",
    "    d1.loc[:,\"PERCENTAGE\"] = d1.loc[:,\"PERCENTAGE\"].fillna(d1.loc[:,\"PERCENTAGE\"].median())\n",
    "    d1.loc[:,\"FREQUENCY\"] = d1.loc[:,\"FREQUENCY\"].fillna(d1.loc[:,\"FREQUENCY\"].median())\n",
    "    x_data=d1.iloc[:,1:-1]\n",
    "    y_data=d1.iloc[:,-1]\n",
    "    return x_data,y_data"
   ]
  },
  {
   "cell_type": "code",
   "execution_count": 92,
   "id": "b5325410",
   "metadata": {},
   "outputs": [
    {
     "data": {
      "text/html": [
       "<div>\n",
       "<style scoped>\n",
       "    .dataframe tbody tr th:only-of-type {\n",
       "        vertical-align: middle;\n",
       "    }\n",
       "\n",
       "    .dataframe tbody tr th {\n",
       "        vertical-align: top;\n",
       "    }\n",
       "\n",
       "    .dataframe thead th {\n",
       "        text-align: right;\n",
       "    }\n",
       "</style>\n",
       "<table border=\"1\" class=\"dataframe\">\n",
       "  <thead>\n",
       "    <tr style=\"text-align: right;\">\n",
       "      <th></th>\n",
       "      <th>LS0A11CD</th>\n",
       "      <th>LS0A11NM</th>\n",
       "      <th>c1</th>\n",
       "      <th>c2</th>\n",
       "      <th>c3</th>\n",
       "      <th>c4</th>\n",
       "      <th>c5</th>\n",
       "      <th>c0</th>\n",
       "      <th>male</th>\n",
       "      <th>female</th>\n",
       "      <th>unknowsex</th>\n",
       "      <th>avgage</th>\n",
       "      <th>PNT_COUNT</th>\n",
       "      <th>PERCENTAGE</th>\n",
       "      <th>FREQUENCY</th>\n",
       "      <th>SUM_Field15</th>\n",
       "    </tr>\n",
       "  </thead>\n",
       "  <tbody>\n",
       "    <tr>\n",
       "      <th>0</th>\n",
       "      <td>E01000001</td>\n",
       "      <td>City of London 001A</td>\n",
       "      <td>8.0</td>\n",
       "      <td>33</td>\n",
       "      <td>16.0</td>\n",
       "      <td>2.0</td>\n",
       "      <td>7.0</td>\n",
       "      <td>0.0</td>\n",
       "      <td>37</td>\n",
       "      <td>29</td>\n",
       "      <td>0</td>\n",
       "      <td>49</td>\n",
       "      <td>3.0</td>\n",
       "      <td>0.002552</td>\n",
       "      <td>4.0</td>\n",
       "      <td>18.0</td>\n",
       "    </tr>\n",
       "    <tr>\n",
       "      <th>1</th>\n",
       "      <td>E01000002</td>\n",
       "      <td>City of London 001B</td>\n",
       "      <td>12.0</td>\n",
       "      <td>69</td>\n",
       "      <td>23.0</td>\n",
       "      <td>3.0</td>\n",
       "      <td>0.0</td>\n",
       "      <td>1.0</td>\n",
       "      <td>67</td>\n",
       "      <td>53</td>\n",
       "      <td>2</td>\n",
       "      <td>46</td>\n",
       "      <td>3.0</td>\n",
       "      <td>0.002552</td>\n",
       "      <td>4.0</td>\n",
       "      <td>18.0</td>\n",
       "    </tr>\n",
       "    <tr>\n",
       "      <th>2</th>\n",
       "      <td>E01000003</td>\n",
       "      <td>City of London 001C</td>\n",
       "      <td>9.0</td>\n",
       "      <td>27</td>\n",
       "      <td>8.0</td>\n",
       "      <td>1.0</td>\n",
       "      <td>6.0</td>\n",
       "      <td>6.0</td>\n",
       "      <td>27</td>\n",
       "      <td>26</td>\n",
       "      <td>1</td>\n",
       "      <td>67</td>\n",
       "      <td>3.0</td>\n",
       "      <td>0.002552</td>\n",
       "      <td>4.0</td>\n",
       "      <td>18.0</td>\n",
       "    </tr>\n",
       "    <tr>\n",
       "      <th>3</th>\n",
       "      <td>E01000005</td>\n",
       "      <td>City of London 001E</td>\n",
       "      <td>22.0</td>\n",
       "      <td>81</td>\n",
       "      <td>23.0</td>\n",
       "      <td>2.0</td>\n",
       "      <td>12.0</td>\n",
       "      <td>0.0</td>\n",
       "      <td>65</td>\n",
       "      <td>72</td>\n",
       "      <td>3</td>\n",
       "      <td>39</td>\n",
       "      <td>3.0</td>\n",
       "      <td>0.002552</td>\n",
       "      <td>4.0</td>\n",
       "      <td>18.0</td>\n",
       "    </tr>\n",
       "    <tr>\n",
       "      <th>4</th>\n",
       "      <td>E01000006</td>\n",
       "      <td>Barking and Dagenham 016A</td>\n",
       "      <td>8.0</td>\n",
       "      <td>23</td>\n",
       "      <td>10.0</td>\n",
       "      <td>0.0</td>\n",
       "      <td>1.0</td>\n",
       "      <td>0.0</td>\n",
       "      <td>20</td>\n",
       "      <td>24</td>\n",
       "      <td>1</td>\n",
       "      <td>34</td>\n",
       "      <td>7.0</td>\n",
       "      <td>0.005956</td>\n",
       "      <td>3.0</td>\n",
       "      <td>11.0</td>\n",
       "    </tr>\n",
       "  </tbody>\n",
       "</table>\n",
       "</div>"
      ],
      "text/plain": [
       "    LS0A11CD                   LS0A11NM    c1  c2    c3   c4    c5   c0  male  \\\n",
       "0  E01000001        City of London 001A   8.0  33  16.0  2.0   7.0  0.0    37   \n",
       "1  E01000002        City of London 001B  12.0  69  23.0  3.0   0.0  1.0    67   \n",
       "2  E01000003        City of London 001C   9.0  27   8.0  1.0   6.0  6.0    27   \n",
       "3  E01000005        City of London 001E  22.0  81  23.0  2.0  12.0  0.0    65   \n",
       "4  E01000006  Barking and Dagenham 016A   8.0  23  10.0  0.0   1.0  0.0    20   \n",
       "\n",
       "   female  unknowsex  avgage  PNT_COUNT  PERCENTAGE  FREQUENCY  SUM_Field15  \n",
       "0      29          0      49        3.0    0.002552        4.0         18.0  \n",
       "1      53          2      46        3.0    0.002552        4.0         18.0  \n",
       "2      26          1      67        3.0    0.002552        4.0         18.0  \n",
       "3      72          3      39        3.0    0.002552        4.0         18.0  \n",
       "4      24          1      34        7.0    0.005956        3.0         11.0  "
      ]
     },
     "execution_count": 92,
     "metadata": {},
     "output_type": "execute_result"
    }
   ],
   "source": [
    "PATH=\"./\"\n",
    "X_DATA,Y_DATA= LoadData(PATH,\"categoryall.csv\")\n",
    "X_DATA.head()"
   ]
  },
  {
   "cell_type": "code",
   "execution_count": 93,
   "id": "6f61e838",
   "metadata": {},
   "outputs": [
    {
     "data": {
      "text/plain": [
       "0     66.0\n",
       "1    122.0\n",
       "2     57.0\n",
       "3    140.0\n",
       "4     48.0\n",
       "Name: total_incidents, dtype: float64"
      ]
     },
     "execution_count": 93,
     "metadata": {},
     "output_type": "execute_result"
    }
   ],
   "source": [
    "Y_DATA.head()"
   ]
  },
  {
   "cell_type": "code",
   "execution_count": 99,
   "id": "7027bd56",
   "metadata": {},
   "outputs": [],
   "source": [
    "X = X_DATA.iloc[:,1:2]\n",
    "enc = OneHotEncoder(categories='auto').fit(X)\n",
    "result = enc.transform(X).toarray()\n",
    "\n",
    "\n",
    "newdata = pd.concat([X_DATA,pd.DataFrame(result)],axis=1)\n",
    "newdata.drop([\"LS0A11NM\"],axis=1,inplace=True)"
   ]
  },
  {
   "cell_type": "code",
   "execution_count": null,
   "id": "812f351f",
   "metadata": {},
   "outputs": [],
   "source": []
  }
 ],
 "metadata": {
  "kernelspec": {
   "display_name": "Python 3",
   "language": "python",
   "name": "python3"
  },
  "language_info": {
   "codemirror_mode": {
    "name": "ipython",
    "version": 3
   },
   "file_extension": ".py",
   "mimetype": "text/x-python",
   "name": "python",
   "nbconvert_exporter": "python",
   "pygments_lexer": "ipython3",
   "version": "3.8.8"
  }
 },
 "nbformat": 4,
 "nbformat_minor": 5
}
